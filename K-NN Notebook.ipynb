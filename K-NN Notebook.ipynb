{
 "cells": [
  {
   "cell_type": "code",
   "execution_count": 1,
   "metadata": {},
   "outputs": [],
   "source": [
    "import pandas as pd\n",
    "from sklearn.model_selection import train_test_split\n",
    "from sklearn.feature_extraction.text import CountVectorizer\n",
    "from sklearn.neighbors import KNeighborsClassifier\n",
    "from sklearn.metrics import accuracy_score\n",
    "from sklearn.metrics import f1_score\n",
    "from sklearn.model_selection import KFold"
   ]
  },
  {
   "cell_type": "code",
   "execution_count": 2,
   "metadata": {},
   "outputs": [
    {
     "name": "stdout",
     "output_type": "stream",
     "text": [
      "                  date  Temperature  Humidity  Light     CO2  HumidityRatio  \\\n",
      "1  2015-02-04 17:51:00        23.18   27.2720  426.0  721.25       0.004793   \n",
      "2  2015-02-04 17:51:59        23.15   27.2675  429.5  714.00       0.004783   \n",
      "3  2015-02-04 17:53:00        23.15   27.2450  426.0  713.50       0.004779   \n",
      "4  2015-02-04 17:54:00        23.15   27.2000  426.0  708.25       0.004772   \n",
      "5  2015-02-04 17:55:00        23.10   27.2000  426.0  704.50       0.004757   \n",
      "\n",
      "   Occupancy  \n",
      "1          1  \n",
      "2          1  \n",
      "3          1  \n",
      "4          1  \n",
      "5          1  \n",
      "     0     1     2    3     4     5     6     7     8     9  ...    48     49  \\\n",
      "0  0.00  0.64  0.64  0.0  0.32  0.00  0.00  0.00  0.00  0.00 ...  0.00  0.000   \n",
      "1  0.21  0.28  0.50  0.0  0.14  0.28  0.21  0.07  0.00  0.94 ...  0.00  0.132   \n",
      "2  0.06  0.00  0.71  0.0  1.23  0.19  0.19  0.12  0.64  0.25 ...  0.01  0.143   \n",
      "3  0.00  0.00  0.00  0.0  0.63  0.00  0.31  0.63  0.31  0.63 ...  0.00  0.137   \n",
      "4  0.00  0.00  0.00  0.0  0.63  0.00  0.31  0.63  0.31  0.63 ...  0.00  0.135   \n",
      "\n",
      "    50     51     52     53     54   55    56  57  \n",
      "0  0.0  0.778  0.000  0.000  3.756   61   278   1  \n",
      "1  0.0  0.372  0.180  0.048  5.114  101  1028   1  \n",
      "2  0.0  0.276  0.184  0.010  9.821  485  2259   1  \n",
      "3  0.0  0.137  0.000  0.000  3.537   40   191   1  \n",
      "4  0.0  0.135  0.000  0.000  3.537   40   191   1  \n",
      "\n",
      "[5 rows x 58 columns]\n"
     ]
    }
   ],
   "source": [
    "# Load datasets\n",
    "occupancy_df_training = pd.read_csv(\"occupancy_data/datatraining.txt\", header=0)\n",
    "\n",
    "print(occupancy_df_training.head())\n",
    "\n",
    "occupancy_df_test1 = pd.read_csv(\"occupancy_data/datatest.txt\", header=0)\n",
    "occupancy_df_test2 = pd.read_csv(\"occupancy_data/datatest2.txt\", header=0)\n",
    "\n",
    "spambase_df = pd.read_csv(\"spambase/spambase.data\", header=None)\n",
    "\n",
    "print(spambase_df.head())"
   ]
  },
  {
   "cell_type": "code",
   "execution_count": 3,
   "metadata": {},
   "outputs": [],
   "source": [
    "y = occupancy_df_training.Occupancy\n",
    "\n",
    "occupancy_df_training = occupancy_df_training.drop(\"Occupancy\", axis=1)\n",
    "occupancy_df_training = occupancy_df_training.drop(\"date\", axis=1)"
   ]
  },
  {
   "cell_type": "code",
   "execution_count": 4,
   "metadata": {},
   "outputs": [],
   "source": [
    "# Split with KFolds\n",
    "kf = KFold(10, True, 1)"
   ]
  },
  {
   "cell_type": "code",
   "execution_count": 5,
   "metadata": {},
   "outputs": [
    {
     "name": "stdout",
     "output_type": "stream",
     "text": [
      "accuracy:   0.991, f1_score:   0.981\n",
      "accuracy:   0.990, f1_score:   0.978\n",
      "accuracy:   0.991, f1_score:   0.979\n",
      "accuracy:   0.994, f1_score:   0.987\n",
      "accuracy:   0.984, f1_score:   0.962\n",
      "accuracy:   0.994, f1_score:   0.985\n",
      "accuracy:   0.985, f1_score:   0.963\n",
      "accuracy:   0.988, f1_score:   0.975\n",
      "accuracy:   0.990, f1_score:   0.976\n",
      "accuracy:   0.986, f1_score:   0.966\n"
     ]
    }
   ],
   "source": [
    "# Create a K Neighbors classifier\n",
    "neighbors = 3\n",
    "clf = KNeighborsClassifier(n_neighbors=neighbors)\n",
    "\n",
    "for train, test in kf.split(occupancy_df_training):\n",
    "    \n",
    "    X_train, X_test, y_train, y_test = occupancy_df_training.iloc[train], occupancy_df_training.iloc[test], y.iloc[train], y.iloc[test]\n",
    "    \n",
    "    clf.fit(X_train, y_train)\n",
    "    \n",
    "    pred = clf.predict(X_test)\n",
    "    \n",
    "    # Model Accuracy: how often is the classifier correct?\n",
    "    accuracy = accuracy_score(y_test, pred)\n",
    "    f1 = f1_score(y_test, pred)\n",
    "    \n",
    "    print(\"accuracy:   %0.3f, f1_score:   %0.3f\" % (accuracy, f1))"
   ]
  },
  {
   "cell_type": "code",
   "execution_count": null,
   "metadata": {},
   "outputs": [],
   "source": []
  }
 ],
 "metadata": {
  "kernelspec": {
   "display_name": "Python 2",
   "language": "python",
   "name": "python2"
  },
  "language_info": {
   "codemirror_mode": {
    "name": "ipython",
    "version": 2
   },
   "file_extension": ".py",
   "mimetype": "text/x-python",
   "name": "python",
   "nbconvert_exporter": "python",
   "pygments_lexer": "ipython2",
   "version": "2.7.15"
  }
 },
 "nbformat": 4,
 "nbformat_minor": 2
}
